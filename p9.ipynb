{
 "cells": [
  {
   "cell_type": "code",
   "execution_count": 5,
   "id": "ebd40f76",
   "metadata": {},
   "outputs": [
    {
     "name": "stdout",
     "output_type": "stream",
     "text": [
      "Predicted Label: negative\n"
     ]
    }
   ],
   "source": [
    "\n",
    "#11) Implement Naïve Bayes theorem to classify the English text\n",
    "# Define the training dataset\n",
    "training_data = [\n",
    "[\"I love this car\", \"positive\"],\n",
    "[\"This view is amazing\", \"positive\"],\n",
    "[\"I feel great\", \"positive\"],\n",
    "[\"I'm not happy with the product\", \"negative\"],\n",
    "[\"This is a terrible place\", \"negative\"],\n",
    "[\"I don't like this movie\", \"negative\"],\n",
    "[\"I like this movie\",\"positive\"]\n",
    "]\n",
    "# Create an empty vocabulary set\n",
    "vocabulary = set()\n",
    "# Add words from training data to the vocabulary\n",
    "for data in training_data:\n",
    "    sentence = data[0]\n",
    "    words = sentence.split()\n",
    "    vocabulary.update(words)\n",
    "# Count the occurrences of each class in the training data\n",
    "class_counts = {}\n",
    "for data in training_data:\n",
    "    label = data[1]\n",
    "    if label in class_counts:\n",
    "        class_counts[label] += 1\n",
    "    else:\n",
    "        class_counts[label] = 1\n",
    "# Compute the probabilities of each class\n",
    "total_data = len(training_data)\n",
    "class_probabilities = {}\n",
    "for label, count in class_counts.items():\n",
    "    class_probabilities[label] = count / total_data\n",
    "# Create a dictionary to store word probabilities\n",
    "word_probabilities = {}\n",
    "# Count the occurrences of each word in each class\n",
    "word_counts = {}\n",
    "for data in training_data:\n",
    "    sentence = data[0]\n",
    "    label = data[1]\n",
    "    words = sentence.split()\n",
    "    if label not in word_counts:\n",
    "        word_counts[label] = {}\n",
    "    for word in words:\n",
    "        if word in word_counts[label]:\n",
    "            word_counts[label][word] += 1\n",
    "        else:\n",
    "            word_counts[label][word] = 1\n",
    "# Compute the probabilities of each word given a class\n",
    "for label in word_counts:\n",
    "    word_probabilities[label] = {}\n",
    "    total_words = sum(word_counts[label].values())\n",
    "    for word in vocabulary:\n",
    "        if word in word_counts[label]:\n",
    "            word_probabilities[label][word] = word_counts[label][word] / total_words\n",
    "        else:\n",
    "            word_probabilities[label][word] = 0.0\n",
    "def classify_text(text):\n",
    "    words = text.split()\n",
    "# Initialize the class probabilities\n",
    "    class_scores = {}\n",
    "    for label in class_probabilities:\n",
    "    # Start with the class probability\n",
    "        score = class_probabilities[label]\n",
    "        for word in words:\n",
    "# Check if the word is in the vocabulary\n",
    "            if word in vocabulary:\n",
    "# Multiply the score by the word probability\n",
    "                score *= word_probabilities[label][word]\n",
    "        class_scores[label] = score\n",
    "# Select the class with the highest probability\n",
    "    predicted_class = max(class_scores, key=class_scores.get)\n",
    "    return predicted_class\n",
    "# Test the classifier\n",
    "test_text = \"I like this place\"\n",
    "predicted_label = classify_text(test_text)\n",
    "print(\"Predicted Label:\", predicted_label)"
   ]
  },
  {
   "cell_type": "code",
   "execution_count": null,
   "id": "f43ed0c9",
   "metadata": {},
   "outputs": [],
   "source": []
  }
 ],
 "metadata": {
  "kernelspec": {
   "display_name": "Python 3 (ipykernel)",
   "language": "python",
   "name": "python3"
  },
  "language_info": {
   "codemirror_mode": {
    "name": "ipython",
    "version": 3
   },
   "file_extension": ".py",
   "mimetype": "text/x-python",
   "name": "python",
   "nbconvert_exporter": "python",
   "pygments_lexer": "ipython3",
   "version": "3.10.9"
  }
 },
 "nbformat": 4,
 "nbformat_minor": 5
}
