{
 "cells": [
  {
   "cell_type": "code",
   "execution_count": 27,
   "id": "1639efb8",
   "metadata": {},
   "outputs": [
    {
     "name": "stdout",
     "output_type": "stream",
     "text": [
      "Predicted Classification: 1\n"
     ]
    }
   ],
   "source": [
    "def euclidean_distance(point1, point2):\n",
    "    return ((point1[0] - point2[0])**2 + (point1[1] - point2[1])**2)**0.5\n",
    "def k_means_classification(data, unknown_case, k):\n",
    "    centroids = data[:k]\n",
    "    min_distance = float('inf')\n",
    "    assigned_centroid = None\n",
    "    for centroid in centroids:\n",
    "        distance = euclidean_distance(unknown_case, centroid)\n",
    "        if distance < min_distance:\n",
    "            min_distance = distance\n",
    "            assigned_centroid = centroid\n",
    "    prediction = None\n",
    "    for i in range(len(data)):\n",
    "        if data[i] == assigned_centroid:\n",
    "            prediction = data[i][-1]\n",
    "            break\n",
    "    return prediction\n",
    "\n",
    "data = [\n",
    "[1.713, 1.586, 0],\n",
    "[0.180, 1.786, 1],\n",
    "[0.353, 1.240, 1],\n",
    "[0.940, 1.566, 0],\n",
    "[1.486, 0.759, 1],\n",
    "[1.266, 1.106, 0],\n",
    "[1.540, 0.419, 1],\n",
    "[0.459, 1.799, 1],\n",
    "[0.773, 0.186, 1]\n",
    "]\n",
    "unknown_case = [0.906, 0.606]\n",
    "k = 3\n",
    "prediction = k_means_classification(data, unknown_case, k)\n",
    "print(\"Predicted Classification:\", prediction)\n"
   ]
  },
  {
   "cell_type": "code",
   "execution_count": null,
   "id": "4cffe773",
   "metadata": {},
   "outputs": [],
   "source": []
  },
  {
   "cell_type": "code",
   "execution_count": null,
   "id": "33b13a54",
   "metadata": {},
   "outputs": [],
   "source": []
  }
 ],
 "metadata": {
  "kernelspec": {
   "display_name": "Python 3 (ipykernel)",
   "language": "python",
   "name": "python3"
  },
  "language_info": {
   "codemirror_mode": {
    "name": "ipython",
    "version": 3
   },
   "file_extension": ".py",
   "mimetype": "text/x-python",
   "name": "python",
   "nbconvert_exporter": "python",
   "pygments_lexer": "ipython3",
   "version": "3.10.9"
  }
 },
 "nbformat": 4,
 "nbformat_minor": 5
}
