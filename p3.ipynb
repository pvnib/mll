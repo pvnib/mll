{
 "cells": [
  {
   "cell_type": "code",
   "execution_count": 1,
   "id": "2d4ee79f",
   "metadata": {},
   "outputs": [
    {
     "name": "stdout",
     "output_type": "stream",
     "text": [
      "The probability that a student is absent given that today is Friday is: 0.15\n"
     ]
    }
   ],
   "source": [
    "def calculate_probability_A_given_B(P_A, P_B, P_B_given_A):\n",
    "    P_A_given_B = (P_B_given_A * P_A) / P_B\n",
    "    return P_A_given_B\n",
    "P_A = 0.03 # Probability that a student is absent (P(A))\n",
    "P_B = 0.20 # Probability that today is Friday (P(B))\n",
    "P_B_given_A = 1.0 # Probability that today is Friday given that a student is absent (P(B/A))\n",
    "# Calculate the probability that a student is absent given that today is Friday (P(A/B))\n",
    "P_A_given_B = calculate_probability_A_given_B(P_A, P_B, P_B_given_A)\n",
    "print(\"The probability that a student is absent given that today is Friday is:\", P_A_given_B)"
   ]
  },
  {
   "cell_type": "code",
   "execution_count": null,
   "id": "e0ab633a",
   "metadata": {},
   "outputs": [],
   "source": []
  }
 ],
 "metadata": {
  "kernelspec": {
   "display_name": "Python 3 (ipykernel)",
   "language": "python",
   "name": "python3"
  },
  "language_info": {
   "codemirror_mode": {
    "name": "ipython",
    "version": 3
   },
   "file_extension": ".py",
   "mimetype": "text/x-python",
   "name": "python",
   "nbconvert_exporter": "python",
   "pygments_lexer": "ipython3",
   "version": "3.10.9"
  }
 },
 "nbformat": 4,
 "nbformat_minor": 5
}
