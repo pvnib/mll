{
 "cells": [
  {
   "cell_type": "code",
   "execution_count": 4,
   "id": "2f81f005",
   "metadata": {},
   "outputs": [
    {
     "name": "stdout",
     "output_type": "stream",
     "text": [
      "['sunny', 'warm', '?', 'strong', '?', '?']\n"
     ]
    }
   ],
   "source": [
    "table = [\n",
    "['sunny', 'warm', 'normal', 'strong', 'warm', 'same', 'yes'],\n",
    "['sunny', 'warm', 'high', 'strong', 'warm', 'same', 'yes'],\n",
    "['rainy', 'cold', 'high', 'strong', 'warm', 'change', 'no'],\n",
    "['sunny', 'warm', 'high', 'strong', 'cool', 'change', 'yes']\n",
    "]\n",
    "hypothesis=['null', 'null', 'null', 'null', 'null', 'null']\n",
    "h1=['null', 'null', 'null', 'null', 'null', 'null']\n",
    "for i in range(4):\n",
    "    if table[i][6]=='yes' and hypothesis==['null', 'null', 'null', 'null', 'null', 'null']:\n",
    "        hypothesis=table[i][:6]\n",
    "    elif table[i][6]=='yes':\n",
    "        h1=table[i][:6]\n",
    "        for j in range(6):\n",
    "            if hypothesis[j]!=h1[j]:\n",
    "                hypothesis[j]='?'\n",
    "print(hypothesis)"
   ]
  },
  {
   "cell_type": "code",
   "execution_count": null,
   "id": "5c70ff8f",
   "metadata": {},
   "outputs": [],
   "source": []
  }
 ],
 "metadata": {
  "kernelspec": {
   "display_name": "Python 3 (ipykernel)",
   "language": "python",
   "name": "python3"
  },
  "language_info": {
   "codemirror_mode": {
    "name": "ipython",
    "version": 3
   },
   "file_extension": ".py",
   "mimetype": "text/x-python",
   "name": "python",
   "nbconvert_exporter": "python",
   "pygments_lexer": "ipython3",
   "version": "3.10.9"
  }
 },
 "nbformat": 4,
 "nbformat_minor": 5
}
