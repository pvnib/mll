{
 "cells": [
  {
   "cell_type": "code",
   "execution_count": 3,
   "id": "6ed71487",
   "metadata": {},
   "outputs": [
    {
     "name": "stdout",
     "output_type": "stream",
     "text": [
      "The value classified to unknown pointer is:1\n"
     ]
    }
   ],
   "source": [
    "def classify(points,p,k):\n",
    "    distance=[]\n",
    "    for g in points:\n",
    "        for xy in points[g]:\n",
    "            eucdis=((xy[0]-p[0])**2+(xy[1]-p[1])**2)**0.5\n",
    "            distance.append((eucdis,g))\n",
    "        distance=sorted(distance)[:k]\n",
    "        f1,f2=0,0\n",
    "        for d in distance:\n",
    "            if d[1]==0:\n",
    "                f1+=1\n",
    "            elif d[1]==1:\n",
    "                f2+=1\n",
    "        return 0 if f1>f2 else 1\n",
    "points={1:[(1,1),(2,2),(3,1)],0:[(5,3),(4,4),(6,5)]}\n",
    "p=(1,2)\n",
    "k=3\n",
    "ans=classify(points,p,k)\n",
    "print(f\"The value classified to unknown pointer is:{ans}\")\n"
   ]
  },
  {
   "cell_type": "code",
   "execution_count": null,
   "id": "84f719de",
   "metadata": {},
   "outputs": [],
   "source": []
  }
 ],
 "metadata": {
  "kernelspec": {
   "display_name": "Python 3 (ipykernel)",
   "language": "python",
   "name": "python3"
  },
  "language_info": {
   "codemirror_mode": {
    "name": "ipython",
    "version": 3
   },
   "file_extension": ".py",
   "mimetype": "text/x-python",
   "name": "python",
   "nbconvert_exporter": "python",
   "pygments_lexer": "ipython3",
   "version": "3.10.9"
  }
 },
 "nbformat": 4,
 "nbformat_minor": 5
}
