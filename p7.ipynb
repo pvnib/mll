{
 "cells": [
  {
   "cell_type": "code",
   "execution_count": 1,
   "id": "95d6c1da",
   "metadata": {},
   "outputs": [
    {
     "name": "stdout",
     "output_type": "stream",
     "text": [
      "Unconditional probability of 'golf': 0.4\n",
      "Conditional probability of 'single' given 'medRisk': 0.6666666666666666\n"
     ]
    }
   ],
   "source": [
    "train_data = [\n",
    "['medium', 'skiing', 'design', 'single', 'twenties', 'no', 'highRisk'],\n",
    "['high', 'golf', 'trading', 'married', 'forties', 'yes', 'lowRisk'],\n",
    "['low', 'speedway', 'transport', 'married', 'thirties', 'yes', 'medRisk'],\n",
    "['medium', 'football', 'banking', 'single', 'thirties', 'yes', 'lowRisk'],\n",
    "['high', 'flying', 'media', 'married', 'fifties', 'yes', 'highRisk'],\n",
    "['low', 'football', 'security', 'single', 'twenties', 'no', 'medRisk'],\n",
    "['medium', 'golf', 'media', 'single', 'thirties', 'yes', 'medRisk'],\n",
    "['medium', 'golf', 'transport', 'married', 'forties', 'yes', 'lowRisk'],\n",
    "['high', 'skiing', 'banking', 'single', 'thirties', 'yes', 'highRisk'],\n",
    "['low', 'golf', 'unemployed', 'married', 'forties', 'yes', 'highRisk']\n",
    "]\n",
    "num_golf = sum(1 for example in train_data if example[1] == 'golf')\n",
    "uncond_prob_golf = num_golf / len(train_data)\n",
    "print('Unconditional probability of \\'golf\\':', uncond_prob_golf)\n",
    "num_single_medrisk = sum(1 for example in train_data if example[3] == 'single' and example[6] == 'medRisk')\n",
    "num_medrisk = sum(1 for example in train_data if example[6] == 'medRisk')\n",
    "cond_prob_single_medrisk = num_single_medrisk / num_medrisk\n",
    "print('Conditional probability of \\'single\\' given \\'medRisk\\':', cond_prob_single_medrisk)"
   ]
  },
  {
   "cell_type": "code",
   "execution_count": null,
   "id": "d3b3108f",
   "metadata": {},
   "outputs": [],
   "source": []
  }
 ],
 "metadata": {
  "kernelspec": {
   "display_name": "Python 3 (ipykernel)",
   "language": "python",
   "name": "python3"
  },
  "language_info": {
   "codemirror_mode": {
    "name": "ipython",
    "version": 3
   },
   "file_extension": ".py",
   "mimetype": "text/x-python",
   "name": "python",
   "nbconvert_exporter": "python",
   "pygments_lexer": "ipython3",
   "version": "3.10.9"
  }
 },
 "nbformat": 4,
 "nbformat_minor": 5
}
