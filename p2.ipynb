{
 "cells": [
  {
   "cell_type": "code",
   "execution_count": 6,
   "id": "899e40d8",
   "metadata": {},
   "outputs": [
    {
     "name": "stdout",
     "output_type": "stream",
     "text": [
      "The General Hypothesis is : \n",
      "['sunny', '?', '?', '?', '?', '?']\n",
      "['?', 'warm', '?', '?', '?', '?']\n",
      "The Specific Hypothesis is : \n",
      "['sunny', 'warm', '?', 'strong', '?', '?']\n"
     ]
    }
   ],
   "source": [
    "table = [\n",
    "['sunny', 'warm', 'normal', 'strong', 'warm', 'same', 'yes'],\n",
    "['sunny', 'warm', 'high', 'strong', 'warm', 'same', 'yes'],\n",
    "['rainy', 'cold', 'high', 'strong', 'warm', 'change', 'no'],\n",
    "['sunny', 'warm', 'high', 'strong', 'cool', 'change', 'yes']\n",
    "]\n",
    "G = [\n",
    "['?', '?', '?', '?' ,'?' ,'?'],\n",
    "['?', '?', '?', '?' ,'?' ,'?'],\n",
    "['?', '?', '?', '?' ,'?' ,'?'],\n",
    "['?', '?', '?', '?' ,'?' ,'?'],\n",
    "['?', '?', '?', '?' ,'?' ,'?'],\n",
    "['?', '?', '?', '?' ,'?' ,'?']\n",
    "]\n",
    "S = ['null', 'null', 'null', 'null', 'null', 'null']\n",
    "for i in range(4):\n",
    "    if table[i][6]=='yes' and S==['null', 'null', 'null', 'null', 'null', 'null']:\n",
    "        S=table[i][:6]\n",
    "    elif table[i][6]=='yes':\n",
    "        S1=table[i][:6]\n",
    "        for j in range(6):\n",
    "            if S[j]!=S1[j]:\n",
    "                S[j]='?'\n",
    "    else:\n",
    "        for j in range(6):\n",
    "            if table[i][j]!=S[j]:\n",
    "                for k in range(6):\n",
    "                    if G[k]==['?', '?', '?', '?' ,'?' ,'?']:\n",
    "                        G[k][j]=S[j]\n",
    "                        break\n",
    "for i in range(6):\n",
    "    for j in range(6):\n",
    "        if G[i][j] not in S and G[i][j]!='?':\n",
    "            G[i][j]='?'\n",
    "print(\"The General Hypothesis is : \")\n",
    "for i in range(6):\n",
    "    if G[i]!=['?', '?', '?', '?' ,'?' ,'?']:\n",
    "        print(G[i])\n",
    "print(\"The Specific Hypothesis is : \")\n",
    "print(S)"
   ]
  },
  {
   "cell_type": "code",
   "execution_count": null,
   "id": "e094311a",
   "metadata": {},
   "outputs": [],
   "source": []
  },
  {
   "cell_type": "code",
   "execution_count": null,
   "id": "030a69d4",
   "metadata": {},
   "outputs": [],
   "source": []
  }
 ],
 "metadata": {
  "kernelspec": {
   "display_name": "Python 3 (ipykernel)",
   "language": "python",
   "name": "python3"
  },
  "language_info": {
   "codemirror_mode": {
    "name": "ipython",
    "version": 3
   },
   "file_extension": ".py",
   "mimetype": "text/x-python",
   "name": "python",
   "nbconvert_exporter": "python",
   "pygments_lexer": "ipython3",
   "version": "3.10.9"
  }
 },
 "nbformat": 4,
 "nbformat_minor": 5
}
